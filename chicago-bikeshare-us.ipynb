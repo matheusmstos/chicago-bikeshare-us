{
 "cells": [
  {
   "cell_type": "code",
   "execution_count": 1,
   "metadata": {},
   "outputs": [],
   "source": [
    "# coding: utf-8\n",
    "\n",
    "# Here goes the imports\n",
    "import csv\n",
    "import matplotlib.pyplot as plt"
   ]
  },
  {
   "cell_type": "code",
   "execution_count": 2,
   "metadata": {},
   "outputs": [
    {
     "name": "stdout",
     "output_type": "stream",
     "text": [
      "Reading the document...\n",
      "Ok!\n"
     ]
    }
   ],
   "source": [
    "# Let's read the data as a list\n",
    "print(\"Reading the document...\")\n",
    "with open(\"chicago.csv\", \"r\") as file_read:\n",
    "    reader = csv.reader(file_read)\n",
    "    data_list = list(reader)\n",
    "print(\"Ok!\")"
   ]
  },
  {
   "cell_type": "code",
   "execution_count": 3,
   "metadata": {},
   "outputs": [
    {
     "name": "stdout",
     "output_type": "stream",
     "text": [
      "Number of rows:\n",
      "1551506\n",
      "\n",
      "Row 0: \n",
      "['Start Time', 'End Time', 'Trip Duration', 'Start Station', 'End Station', 'User Type', 'Gender', 'Birth Year']\n",
      "\n",
      "Row 1: \n",
      "['2017-01-01 00:00:36', '2017-01-01 00:06:32', '356', 'Canal St & Taylor St', 'Canal St & Monroe St (*)', 'Customer', '', '']\n",
      "\n",
      "0x0\n",
      "Start Time\n"
     ]
    }
   ],
   "source": [
    "# Let's check how many rows do we have\n",
    "print(\"Number of rows:\")\n",
    "print(len(data_list))\n",
    "\n",
    "# Printing the first row of data_list to check if it worked.\n",
    "print(\"\\nRow 0: \")\n",
    "print(data_list[0])\n",
    "# It's the data header, so we can identify the columns.\n",
    "\n",
    "# Printing the second row of data_list, it should contain some data\n",
    "print(\"\\nRow 1: \")\n",
    "print(data_list[1])\n",
    "\n",
    "#This is how you can acess the columns of the list\n",
    "print(\"\\n0x0\")\n",
    "print(data_list[0][0])"
   ]
  },
  {
   "cell_type": "code",
   "execution_count": 4,
   "metadata": {},
   "outputs": [
    {
     "name": "stdout",
     "output_type": "stream",
     "text": [
      "\n",
      "\n",
      "TASK 1: Printing the first 20 samples\n",
      "['Start Time', 'End Time', 'Trip Duration', 'Start Station', 'End Station', 'User Type', 'Gender', 'Birth Year']\n",
      "['2017-01-01 00:00:36', '2017-01-01 00:06:32', '356', 'Canal St & Taylor St', 'Canal St & Monroe St (*)', 'Customer', '', '']\n",
      "['2017-01-01 00:02:54', '2017-01-01 00:08:21', '327', 'Larrabee St & Menomonee St', 'Sheffield Ave & Kingsbury St', 'Subscriber', 'Male', '1984.0']\n",
      "['2017-01-01 00:06:06', '2017-01-01 00:18:31', '745', 'Orleans St & Chestnut St (NEXT Apts)', 'Ashland Ave & Blackhawk St', 'Subscriber', 'Male', '1985.0']\n",
      "['2017-01-01 00:07:28', '2017-01-01 00:12:51', '323', 'Franklin St & Monroe St', 'Clinton St & Tilden St', 'Subscriber', 'Male', '1990.0']\n",
      "['2017-01-01 00:07:57', '2017-01-01 00:20:53', '776', 'Broadway & Barry Ave', 'Sedgwick St & North Ave', 'Subscriber', 'Male', '1990.0']\n",
      "['2017-01-01 00:10:44', '2017-01-01 00:21:27', '643', 'State St & Kinzie St', 'Wells St & Polk St', 'Subscriber', 'Male', '1970.0']\n",
      "['2017-01-01 00:11:34', '2017-01-01 00:23:47', '733', 'Wabash Ave & Wacker Pl', 'Clinton St & Tilden St', 'Subscriber', 'Male', '1986.0']\n",
      "['2017-01-01 00:14:57', '2017-01-01 00:26:22', '685', 'Daley Center Plaza', 'Canal St & Monroe St (*)', 'Customer', '', '']\n",
      "['2017-01-01 00:15:03', '2017-01-01 00:26:28', '685', 'Daley Center Plaza', 'Canal St & Monroe St (*)', 'Customer', '', '']\n",
      "['2017-01-01 00:17:01', '2017-01-01 00:29:49', '768', 'Dayton St & North Ave', 'Ogden Ave & Chicago Ave', 'Customer', '', '']\n",
      "['2017-01-01 00:17:13', '2017-01-01 11:03:34', '38781', 'Wilton Ave & Diversey Pkwy', 'Halsted St & Wrightwood Ave', 'Subscriber', 'Female', '1988.0']\n",
      "['2017-01-01 00:18:28', '2017-01-01 00:31:05', '757', 'Canal St & Madison St', 'LaSalle St & Illinois St', 'Customer', '', '']\n",
      "['2017-01-01 00:18:50', '2017-01-01 00:21:47', '177', 'Theater on the Lake', 'Lakeview Ave & Fullerton Pkwy', 'Subscriber', 'Male', '1991.0']\n",
      "['2017-01-01 00:23:41', '2017-01-01 00:29:13', '332', 'Halsted St & Maxwell St', 'Halsted St & 18th St', 'Subscriber', 'Male', '1984.0']\n",
      "['2017-01-01 00:25:47', '2017-01-01 00:39:53', '846', 'Ravenswood Ave & Lawrence Ave', 'Clarendon Ave & Gordon Ter', 'Subscriber', 'Female', '1987.0']\n",
      "['2017-01-01 00:25:47', '2017-01-01 00:43:23', '1056', 'Clark St & Congress Pkwy', 'Wolcott Ave & Polk St', 'Subscriber', 'Male', '1984.0']\n",
      "['2017-01-01 00:26:21', '2017-01-01 00:39:40', '799', 'Ravenswood Ave & Lawrence Ave', 'Clarendon Ave & Gordon Ter', 'Subscriber', 'Male', '1987.0']\n",
      "['2017-01-01 00:27:21', '2017-01-01 00:42:59', '938', 'Millennium Park', 'Michigan Ave & 18th St', 'Subscriber', 'Male', '1991.0']\n",
      "['2017-01-01 00:27:28', '2017-01-01 00:42:44', '916', 'Millennium Park', 'Michigan Ave & 18th St', 'Subscriber', 'Female', '1990.0']\n",
      "['2017-01-01 00:27:45', '2017-01-01 00:31:13', '208', 'Damen Ave & Chicago Ave', 'Damen Ave & Division St', 'Subscriber', 'Male', '1982.0']\n"
     ]
    }
   ],
   "source": [
    "#input(\"Press Enter to continue...\")\n",
    "# TASK 1\n",
    "# TODO: Print the first 20 rows using a loop to identify the data.\n",
    "print(\"\\n\\nTASK 1: Printing the first 20 samples\")\n",
    "\n",
    "for row in range(0, 21,1):\n",
    "    print(data_list[row])\n",
    "       \n",
    "# Let's change the data_list to remove the header from it.\n",
    "data_list = data_list[1:]\n",
    "\n",
    "# We can access the features through index\n",
    "# E.g. sample[6] to print gender or sample[-2]\n"
   ]
  },
  {
   "cell_type": "code",
   "execution_count": 5,
   "metadata": {},
   "outputs": [
    {
     "name": "stdout",
     "output_type": "stream",
     "text": [
      "\n",
      "TASK 2: Printing the genders of the first 20 samples\n",
      "\n",
      "Male\n",
      "Male\n",
      "Male\n",
      "Male\n",
      "Male\n",
      "Male\n",
      "\n",
      "\n",
      "\n",
      "Female\n",
      "\n",
      "Male\n",
      "Male\n",
      "Female\n",
      "Male\n",
      "Male\n",
      "Male\n",
      "Female\n",
      "Male\n",
      "Female\n"
     ]
    }
   ],
   "source": [
    "#input(\"Press Enter to continue...\")\n",
    "# TASK 2\n",
    "# TODO: Print the `gender` of the first 20 rows\n",
    "print(\"\\nTASK 2: Printing the genders of the first 20 samples\")\n",
    "\n",
    "gender_index = -2\n",
    "for row in range(21):\n",
    "    print(data_list[row][gender_index])\n",
    "\n",
    "\n",
    "# Cool! We can get the rows(samples) iterating with a for and the columns(features) by index.\n",
    "# But it's still hard to get a column in a list. Example: List with all genders\n"
   ]
  },
  {
   "cell_type": "code",
   "execution_count": 6,
   "metadata": {},
   "outputs": [
    {
     "name": "stdout",
     "output_type": "stream",
     "text": [
      "\n",
      "TASK 3: Printing the list of genders of the first 20 samples\n",
      "['', 'Male', 'Male', 'Male', 'Male', 'Male', 'Male', '', '', '', 'Female', '', 'Male', 'Male', 'Female', 'Male', 'Male', 'Male', 'Female', 'Male']\n"
     ]
    }
   ],
   "source": [
    "#input(\"Press Enter to continue...\")\n",
    "# TASK 3\n",
    "# TODO: Create a function to add the columns(features) of a list in another list in the same order\n",
    "def column_to_list(data, index):\n",
    "    column_list = []\n",
    "    # Tip: You can use a for to iterate over the samples, get the feature by index and append into a list\n",
    "    for row in range(0, len(data), 1):\n",
    "        column_list.append(data[row][index])\n",
    "    return column_list\n",
    "\n",
    "\n",
    "# Let's check with the genders if it's working (only the first 20)\n",
    "print(\"\\nTASK 3: Printing the list of genders of the first 20 samples\")\n",
    "print(column_to_list(data_list, -2)[:20])\n",
    "\n",
    "# ------------ DO NOT CHANGE ANY CODE HERE ------------\n",
    "assert type(column_to_list(data_list, -2)) is list, \"TASK 3: Wrong type returned. It should return a list.\"\n",
    "assert len(column_to_list(data_list, -2)) == 1551505, \"TASK 3: Wrong lenght returned.\"\n",
    "assert column_to_list(data_list, -2)[0] == \"\" and column_to_list(data_list, -2)[1] == \"Male\", \"TASK 3: The list doesn't match.\"\n",
    "# -----------------------------------------------------"
   ]
  },
  {
   "cell_type": "code",
   "execution_count": 7,
   "metadata": {},
   "outputs": [
    {
     "name": "stdout",
     "output_type": "stream",
     "text": [
      "\n",
      "TASK 4: Printing how many males and females we found\n",
      "Male:  935854 \n",
      "Female:  298784\n"
     ]
    }
   ],
   "source": [
    "#input(\"Press Enter to continue...\")\n",
    "# Now we know how to access the features, let's count how many Males and Females the dataset have\n",
    "# TASK 4\n",
    "# TODO: Count each gender. You should not use a function to do that.\n",
    "male = 0\n",
    "female = 0\n",
    "\n",
    "for x in range(len(data_list)):\n",
    "    if (data_list[x][-2] == \"Male\"):\n",
    "        male+=1\n",
    "    elif(data_list[x][-2] == \"Female\"):\n",
    "        female+=1\n",
    "    \n",
    "\n",
    "# Checking the result\n",
    "print(\"\\nTASK 4: Printing how many males and females we found\")\n",
    "print(\"Male: \", male, \"\\nFemale: \", female)\n",
    "\n",
    "# ------------ DO NOT CHANGE ANY CODE HERE ------------\n",
    "assert male == 935854 and female == 298784, \"TASK 4: Count doesn't match.\"\n",
    "# -----------------------------------------------------"
   ]
  },
  {
   "cell_type": "code",
   "execution_count": 8,
   "metadata": {},
   "outputs": [
    {
     "name": "stdout",
     "output_type": "stream",
     "text": [
      "\n",
      "TASK 5: Printing result of count_gender\n",
      "[935854, 298784]\n"
     ]
    }
   ],
   "source": [
    "#input(\"Press Enter to continue...\")\n",
    "# Why don't we creeate a function to do that?\n",
    "# TASK 5\n",
    "# TODO: Create a function to count the genders. Return a list\n",
    "# Should return a list with [count_male, counf_female] (e.g., [10, 15] means 10 Males, 15 Females)\n",
    "def count_gender(data_list):\n",
    "    male = 0\n",
    "    female = 0\n",
    "    \n",
    "    for x in range(len(data_list)):\n",
    "        if (data_list[x][-2] == \"Male\"):\n",
    "            male+=1\n",
    "        elif(data_list[x][-2] == \"Female\"):\n",
    "            female+=1\n",
    "    return [male, female]\n",
    "\n",
    "\n",
    "print(\"\\nTASK 5: Printing result of count_gender\")\n",
    "print(count_gender(data_list))\n",
    "\n",
    "# ------------ DO NOT CHANGE ANY CODE HERE ------------\n",
    "assert type(count_gender(data_list)) is list, \"TASK 5: Wrong type returned. It should return a list.\"\n",
    "assert len(count_gender(data_list)) == 2, \"TASK 5: Wrong lenght returned.\"\n",
    "assert count_gender(data_list)[0] == 935854 and count_gender(data_list)[1] == 298784, \"TASK 5: Returning wrong result!\"\n",
    "# -----------------------------------------------------\n",
    "\n"
   ]
  },
  {
   "cell_type": "code",
   "execution_count": 9,
   "metadata": {},
   "outputs": [
    {
     "name": "stdout",
     "output_type": "stream",
     "text": [
      "\n",
      "TASK 6: Which one is the most popular gender?\n",
      "Most popular gender is:  Male\n"
     ]
    },
    {
     "data": {
      "image/png": "[encoded data removed]",
      "text/plain": [
       "<matplotlib.figure.Figure at 0x14d6deda0>"
      ]
     },
     "metadata": {},
     "output_type": "display_data"
    }
   ],
   "source": [
    "#input(\"Press Enter to continue...\")\n",
    "# Now we can count the users, which gender use it the most?\n",
    "# TASK 6\n",
    "# TODO: Create a function to get the most popular gender and print the gender as string.\n",
    "# We expect to see \"Male\", \"Female\" or \"Equal\" as answer.\n",
    "def most_popular_gender(data_list):\n",
    "    answer = \"\"    \n",
    "    gender_list = count_gender(data_list)\n",
    "    \n",
    "    if(gender_list[0] > gender_list[1]):\n",
    "        answer = \"Male\"\n",
    "    elif(gender_list[0] < gender_list[1]):\n",
    "        answer = \"Female\"\n",
    "    else:\n",
    "        answer = \"Equal\"  \n",
    "    return answer\n",
    "\n",
    "\n",
    "print(\"\\nTASK 6: Which one is the most popular gender?\")\n",
    "print(\"Most popular gender is: \", most_popular_gender(data_list))\n",
    "\n",
    "# ------------ DO NOT CHANGE ANY CODE HERE ------------\n",
    "assert type(most_popular_gender(data_list)) is str, \"TASK 6: Wrong type returned. It should return a string.\"\n",
    "assert most_popular_gender(data_list) == \"Male\", \"TASK 6: Returning wrong result!\"\n",
    "# -----------------------------------------------------\n",
    "\n",
    "# If it's everything running as expected, check this graph!\n",
    "gender_list = column_to_list(data_list, -2)\n",
    "types = [\"Male\", \"Female\"]\n",
    "quantity = count_gender(data_list)\n",
    "y_pos = list(range(len(types)))\n",
    "plt.bar(y_pos, quantity)\n",
    "plt.ylabel('Quantity')\n",
    "plt.xlabel('Gender')\n",
    "plt.xticks(y_pos, types)\n",
    "plt.title('Quantity by Gender')\n",
    "plt.show(block=True)"
   ]
  },
  {
   "cell_type": "code",
   "execution_count": 10,
   "metadata": {},
   "outputs": [
    {
     "name": "stdout",
     "output_type": "stream",
     "text": [
      "[317162, 1234339]\n",
      "\n",
      "TASK 7: Check the chart!\n"
     ]
    },
    {
     "data": {
      "image/png": "[encoded data removed]",
      "text/plain": [
       "<matplotlib.figure.Figure at 0x14d706ac8>"
      ]
     },
     "metadata": {},
     "output_type": "display_data"
    }
   ],
   "source": [
    "#input(\"Press Enter to continue...\")\n",
    "# TASK 7\n",
    "# TODO: Plot a similar graph for user_types. Make sure the legend is correct.\n",
    "user_type_list = column_to_list(data_list, -3)\n",
    "#print(user_type_list[:20])\n",
    "\n",
    "def count_user_type(data_list):\n",
    "    customer = 0\n",
    "    subscriber = 0\n",
    "    \n",
    "    for x in range(len(data_list)):\n",
    "        if (data_list[x][-3] == \"Customer\"):\n",
    "            customer+=1\n",
    "        elif(data_list[x][-3] == \"Subscriber\"):\n",
    "            subscriber+=1\n",
    "    return [customer, subscriber]\n",
    "\n",
    "print(count_user_type(data_list))\n",
    "\n",
    "print(\"\\nTASK 7: Check the chart!\")\n",
    "types = [\"Customer\", \"Subscriber\"]\n",
    "quantity = count_user_type(data_list)\n",
    "y_pos = list(range(len(types)))\n",
    "plt.bar(y_pos, quantity)\n",
    "plt.ylabel('Quantity')\n",
    "plt.xlabel('User Type')\n",
    "plt.xticks(y_pos, types)\n",
    "plt.title('Quantity by User Type')\n",
    "plt.show(block=True)"
   ]
  },
  {
   "cell_type": "code",
   "execution_count": 24,
   "metadata": {},
   "outputs": [
    {
     "name": "stdout",
     "output_type": "stream",
     "text": [
      "\n",
      "TASK 8: Why the following condition is False?\n",
      "male + female == len(data_list): False\n",
      "Male + Female = 1234638 and len(data_list) = 1551505\n",
      "Answer: Not all genders are filled.\n"
     ]
    }
   ],
   "source": [
    "#input(\"Press Enter to continue...\")\n",
    "# TASK 8\n",
    "# TODO: Answer the following question\n",
    "male, female = count_gender(data_list)\n",
    "print(\"\\nTASK 8: Why the following condition is False?\")\n",
    "print(\"male + female == len(data_list):\", male + female == len(data_list))\n",
    "print(\"Male + Female = {} and len(data_list) = {}\".format((male+female), len(data_list)))\n",
    "answer = \"Not all genders are filled.\"\n",
    "print(\"Answer:\", answer)\n",
    "\n",
    "# ------------ DO NOT CHANGE ANY CODE HERE ------------\n",
    "assert answer != \"Type your answer here.\", \"TASK 8: Write your own answer!\"\n",
    "# -----------------------------------------------------"
   ]
  },
  {
   "cell_type": "code",
   "execution_count": null,
   "metadata": {},
   "outputs": [],
   "source": []
  }
 ],
 "metadata": {
  "kernelspec": {
   "display_name": "Python 3",
   "language": "python",
   "name": "python3"
  },
  "language_info": {
   "codemirror_mode": {
    "name": "ipython",
    "version": 3
   },
   "file_extension": ".py",
   "mimetype": "text/x-python",
   "name": "python",
   "nbconvert_exporter": "python",
   "pygments_lexer": "ipython3",
   "version": "3.6.4"
  }
 },
 "nbformat": 4,
 "nbformat_minor": 2
}
