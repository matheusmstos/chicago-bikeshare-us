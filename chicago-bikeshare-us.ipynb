{
 "cells": [
  {
   "cell_type": "code",
   "execution_count": 2,
   "metadata": {},
   "outputs": [],
   "source": [
    "# coding: utf-8\n",
    "\n",
    "# Here goes the imports\n",
    "import csv\n",
    "import matplotlib.pyplot as plt"
   ]
  },
  {
   "cell_type": "code",
   "execution_count": null,
   "metadata": {},
   "outputs": [],
   "source": [
    "# Let's read the data as a list\n",
    "print(\"Reading the document...\")\n",
    "with open(\"chicago.csv\", \"r\") as file_read:\n",
    "    reader = csv.reader(file_read)\n",
    "    data_list = list(reader)\n",
    "print(\"Ok!\")"
   ]
  },
  {
   "cell_type": "code",
   "execution_count": 6,
   "metadata": {},
   "outputs": [
    {
     "name": "stdout",
     "output_type": "stream",
     "text": [
      "Number of rows:\n",
      "1551506\n",
      "\n",
      "Row 0: \n",
      "['Start Time', 'End Time', 'Trip Duration', 'Start Station', 'End Station', 'User Type', 'Gender', 'Birth Year']\n",
      "\n",
      "Row 1: \n",
      "['2017-01-01 00:00:36', '2017-01-01 00:06:32', '356', 'Canal St & Taylor St', 'Canal St & Monroe St (*)', 'Customer', '', '']\n",
      "\n",
      "0x0\n",
      "Start Time\n"
     ]
    }
   ],
   "source": [
    "# Let's check how many rows do we have\n",
    "print(\"Number of rows:\")\n",
    "print(len(data_list))\n",
    "\n",
    "# Printing the first row of data_list to check if it worked.\n",
    "print(\"\\nRow 0: \")\n",
    "print(data_list[0])\n",
    "# It's the data header, so we can identify the columns.\n",
    "\n",
    "# Printing the second row of data_list, it should contain some data\n",
    "print(\"\\nRow 1: \")\n",
    "print(data_list[1])\n",
    "\n",
    "#This is how you can acess the columns of the list\n",
    "print(\"\\n0x0\")\n",
    "print(data_list[0][0])"
   ]
  },
  {
   "cell_type": "code",
   "execution_count": 9,
   "metadata": {},
   "outputs": [
    {
     "name": "stdout",
     "output_type": "stream",
     "text": [
      "\n",
      "\n",
      "TASK 1: Printing the first 20 samples\n",
      "['Start Time', 'End Time', 'Trip Duration', 'Start Station', 'End Station', 'User Type', 'Gender', 'Birth Year']\n",
      "['2017-01-01 00:00:36', '2017-01-01 00:06:32', '356', 'Canal St & Taylor St', 'Canal St & Monroe St (*)', 'Customer', '', '']\n",
      "['2017-01-01 00:02:54', '2017-01-01 00:08:21', '327', 'Larrabee St & Menomonee St', 'Sheffield Ave & Kingsbury St', 'Subscriber', 'Male', '1984.0']\n",
      "['2017-01-01 00:06:06', '2017-01-01 00:18:31', '745', 'Orleans St & Chestnut St (NEXT Apts)', 'Ashland Ave & Blackhawk St', 'Subscriber', 'Male', '1985.0']\n",
      "['2017-01-01 00:07:28', '2017-01-01 00:12:51', '323', 'Franklin St & Monroe St', 'Clinton St & Tilden St', 'Subscriber', 'Male', '1990.0']\n",
      "['2017-01-01 00:07:57', '2017-01-01 00:20:53', '776', 'Broadway & Barry Ave', 'Sedgwick St & North Ave', 'Subscriber', 'Male', '1990.0']\n",
      "['2017-01-01 00:10:44', '2017-01-01 00:21:27', '643', 'State St & Kinzie St', 'Wells St & Polk St', 'Subscriber', 'Male', '1970.0']\n",
      "['2017-01-01 00:11:34', '2017-01-01 00:23:47', '733', 'Wabash Ave & Wacker Pl', 'Clinton St & Tilden St', 'Subscriber', 'Male', '1986.0']\n",
      "['2017-01-01 00:14:57', '2017-01-01 00:26:22', '685', 'Daley Center Plaza', 'Canal St & Monroe St (*)', 'Customer', '', '']\n",
      "['2017-01-01 00:15:03', '2017-01-01 00:26:28', '685', 'Daley Center Plaza', 'Canal St & Monroe St (*)', 'Customer', '', '']\n",
      "['2017-01-01 00:17:01', '2017-01-01 00:29:49', '768', 'Dayton St & North Ave', 'Ogden Ave & Chicago Ave', 'Customer', '', '']\n",
      "['2017-01-01 00:17:13', '2017-01-01 11:03:34', '38781', 'Wilton Ave & Diversey Pkwy', 'Halsted St & Wrightwood Ave', 'Subscriber', 'Female', '1988.0']\n",
      "['2017-01-01 00:18:28', '2017-01-01 00:31:05', '757', 'Canal St & Madison St', 'LaSalle St & Illinois St', 'Customer', '', '']\n",
      "['2017-01-01 00:18:50', '2017-01-01 00:21:47', '177', 'Theater on the Lake', 'Lakeview Ave & Fullerton Pkwy', 'Subscriber', 'Male', '1991.0']\n",
      "['2017-01-01 00:23:41', '2017-01-01 00:29:13', '332', 'Halsted St & Maxwell St', 'Halsted St & 18th St', 'Subscriber', 'Male', '1984.0']\n",
      "['2017-01-01 00:25:47', '2017-01-01 00:39:53', '846', 'Ravenswood Ave & Lawrence Ave', 'Clarendon Ave & Gordon Ter', 'Subscriber', 'Female', '1987.0']\n",
      "['2017-01-01 00:25:47', '2017-01-01 00:43:23', '1056', 'Clark St & Congress Pkwy', 'Wolcott Ave & Polk St', 'Subscriber', 'Male', '1984.0']\n",
      "['2017-01-01 00:26:21', '2017-01-01 00:39:40', '799', 'Ravenswood Ave & Lawrence Ave', 'Clarendon Ave & Gordon Ter', 'Subscriber', 'Male', '1987.0']\n",
      "['2017-01-01 00:27:21', '2017-01-01 00:42:59', '938', 'Millennium Park', 'Michigan Ave & 18th St', 'Subscriber', 'Male', '1991.0']\n",
      "['2017-01-01 00:27:28', '2017-01-01 00:42:44', '916', 'Millennium Park', 'Michigan Ave & 18th St', 'Subscriber', 'Female', '1990.0']\n",
      "['2017-01-01 00:27:45', '2017-01-01 00:31:13', '208', 'Damen Ave & Chicago Ave', 'Damen Ave & Division St', 'Subscriber', 'Male', '1982.0']\n"
     ]
    }
   ],
   "source": [
    "#input(\"Press Enter to continue...\")\n",
    "# TASK 1\n",
    "# TODO: Print the first 20 rows using a loop to identify the data.\n",
    "print(\"\\n\\nTASK 1: Printing the first 20 samples\")\n",
    "\n",
    "for row in range(0, 21,1):\n",
    "    print(data_list[row])\n",
    "       \n",
    "# Let's change the data_list to remove the header from it.\n",
    "data_list = data_list[1:]\n",
    "\n",
    "# We can access the features through index\n",
    "# E.g. sample[6] to print gender or sample[-2]\n"
   ]
  },
  {
   "cell_type": "code",
   "execution_count": 17,
   "metadata": {},
   "outputs": [
    {
     "name": "stdout",
     "output_type": "stream",
     "text": [
      "\n",
      "TASK 2: Printing the genders of the first 20 samples\n",
      "\n",
      "Male\n",
      "Male\n",
      "Male\n",
      "Male\n",
      "Male\n",
      "Male\n",
      "\n",
      "\n",
      "\n",
      "Female\n",
      "\n",
      "Male\n",
      "Male\n",
      "Female\n",
      "Male\n",
      "Male\n",
      "Male\n",
      "Female\n",
      "Male\n",
      "Female\n"
     ]
    }
   ],
   "source": [
    "#input(\"Press Enter to continue...\")\n",
    "# TASK 2\n",
    "# TODO: Print the `gender` of the first 20 rows\n",
    "print(\"\\nTASK 2: Printing the genders of the first 20 samples\")\n",
    "\n",
    "gender_index = -2\n",
    "for row in range(21):\n",
    "    print(data_list[row][gender_index])\n",
    "\n",
    "\n",
    "# Cool! We can get the rows(samples) iterating with a for and the columns(features) by index.\n",
    "# But it's still hard to get a column in a list. Example: List with all genders\n"
   ]
  },
  {
   "cell_type": "code",
   "execution_count": 26,
   "metadata": {},
   "outputs": [
    {
     "name": "stdout",
     "output_type": "stream",
     "text": [
      "\n",
      "TASK 3: Printing the list of genders of the first 20 samples\n",
      "['', 'Male', 'Male', 'Male', 'Male', 'Male', 'Male', '', '', '', 'Female', '', 'Male', 'Male', 'Female', 'Male', 'Male', 'Male', 'Female', 'Male']\n"
     ]
    }
   ],
   "source": [
    "#input(\"Press Enter to continue...\")\n",
    "# TASK 3\n",
    "# TODO: Create a function to add the columns(features) of a list in another list in the same order\n",
    "def column_to_list(data, index):\n",
    "    column_list = []\n",
    "    # Tip: You can use a for to iterate over the samples, get the feature by index and append into a list\n",
    "    for row in range(0, len(data), 1):\n",
    "        column_list.append(data[row][index])\n",
    "    return column_list\n",
    "\n",
    "\n",
    "# Let's check with the genders if it's working (only the first 20)\n",
    "print(\"\\nTASK 3: Printing the list of genders of the first 20 samples\")\n",
    "print(column_to_list(data_list, -2)[:20])\n",
    "\n",
    "# ------------ DO NOT CHANGE ANY CODE HERE ------------\n",
    "assert type(column_to_list(data_list, -2)) is list, \"TASK 3: Wrong type returned. It should return a list.\"\n",
    "assert len(column_to_list(data_list, -2)) == 1551505, \"TASK 3: Wrong lenght returned.\"\n",
    "assert column_to_list(data_list, -2)[0] == \"\" and column_to_list(data_list, -2)[1] == \"Male\", \"TASK 3: The list doesn't match.\"\n",
    "# -----------------------------------------------------"
   ]
  },
  {
   "cell_type": "code",
   "execution_count": null,
   "metadata": {},
   "outputs": [],
   "source": []
  }
 ],
 "metadata": {
  "kernelspec": {
   "display_name": "Python 3",
   "language": "python",
   "name": "python3"
  },
  "language_info": {
   "codemirror_mode": {
    "name": "ipython",
    "version": 3
   },
   "file_extension": ".py",
   "mimetype": "text/x-python",
   "name": "python",
   "nbconvert_exporter": "python",
   "pygments_lexer": "ipython3",
   "version": "3.6.4"
  }
 },
 "nbformat": 4,
 "nbformat_minor": 2
}
