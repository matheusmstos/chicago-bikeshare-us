{
 "cells": [
  {
   "cell_type": "code",
   "execution_count": 1,
   "metadata": {},
   "outputs": [],
   "source": [
    "# coding: utf-8\n",
    "\n",
    "# Here goes the imports\n",
    "import csv\n",
    "import matplotlib.pyplot as plt"
   ]
  },
  {
   "cell_type": "code",
   "execution_count": 2,
   "metadata": {},
   "outputs": [
    {
     "name": "stdout",
     "output_type": "stream",
     "text": [
      "Reading the document...\n",
      "Ok!\n"
     ]
    }
   ],
   "source": [
    "# Let's read the data as a list\n",
    "print(\"Reading the document...\")\n",
    "with open(\"chicago.csv\", \"r\") as file_read:\n",
    "    reader = csv.reader(file_read)\n",
    "    data_list = list(reader)\n",
    "print(\"Ok!\")"
   ]
  },
  {
   "cell_type": "code",
   "execution_count": 3,
   "metadata": {},
   "outputs": [
    {
     "name": "stdout",
     "output_type": "stream",
     "text": [
      "Number of rows:\n",
      "1551506\n",
      "\n",
      "Row 0: \n",
      "['Start Time', 'End Time', 'Trip Duration', 'Start Station', 'End Station', 'User Type', 'Gender', 'Birth Year']\n",
      "\n",
      "Row 1: \n",
      "['2017-01-01 00:00:36', '2017-01-01 00:06:32', '356', 'Canal St & Taylor St', 'Canal St & Monroe St (*)', 'Customer', '', '']\n",
      "\n",
      "0x0\n",
      "Start Time\n"
     ]
    }
   ],
   "source": [
    "# Let's check how many rows do we have\n",
    "print(\"Number of rows:\")\n",
    "print(len(data_list))\n",
    "\n",
    "# Printing the first row of data_list to check if it worked.\n",
    "print(\"\\nRow 0: \")\n",
    "print(data_list[0])\n",
    "# It's the data header, so we can identify the columns.\n",
    "\n",
    "# Printing the second row of data_list, it should contain some data\n",
    "print(\"\\nRow 1: \")\n",
    "print(data_list[1])\n",
    "\n",
    "#This is how you can acess the columns of the list\n",
    "print(\"\\n0x0\")\n",
    "print(data_list[0][0])"
   ]
  },
  {
   "cell_type": "code",
   "execution_count": 4,
   "metadata": {},
   "outputs": [
    {
     "name": "stdout",
     "output_type": "stream",
     "text": [
      "\n",
      "\n",
      "TASK 1: Printing the first 20 samples\n",
      "['Start Time', 'End Time', 'Trip Duration', 'Start Station', 'End Station', 'User Type', 'Gender', 'Birth Year']\n",
      "['2017-01-01 00:00:36', '2017-01-01 00:06:32', '356', 'Canal St & Taylor St', 'Canal St & Monroe St (*)', 'Customer', '', '']\n",
      "['2017-01-01 00:02:54', '2017-01-01 00:08:21', '327', 'Larrabee St & Menomonee St', 'Sheffield Ave & Kingsbury St', 'Subscriber', 'Male', '1984.0']\n",
      "['2017-01-01 00:06:06', '2017-01-01 00:18:31', '745', 'Orleans St & Chestnut St (NEXT Apts)', 'Ashland Ave & Blackhawk St', 'Subscriber', 'Male', '1985.0']\n",
      "['2017-01-01 00:07:28', '2017-01-01 00:12:51', '323', 'Franklin St & Monroe St', 'Clinton St & Tilden St', 'Subscriber', 'Male', '1990.0']\n",
      "['2017-01-01 00:07:57', '2017-01-01 00:20:53', '776', 'Broadway & Barry Ave', 'Sedgwick St & North Ave', 'Subscriber', 'Male', '1990.0']\n",
      "['2017-01-01 00:10:44', '2017-01-01 00:21:27', '643', 'State St & Kinzie St', 'Wells St & Polk St', 'Subscriber', 'Male', '1970.0']\n",
      "['2017-01-01 00:11:34', '2017-01-01 00:23:47', '733', 'Wabash Ave & Wacker Pl', 'Clinton St & Tilden St', 'Subscriber', 'Male', '1986.0']\n",
      "['2017-01-01 00:14:57', '2017-01-01 00:26:22', '685', 'Daley Center Plaza', 'Canal St & Monroe St (*)', 'Customer', '', '']\n",
      "['2017-01-01 00:15:03', '2017-01-01 00:26:28', '685', 'Daley Center Plaza', 'Canal St & Monroe St (*)', 'Customer', '', '']\n",
      "['2017-01-01 00:17:01', '2017-01-01 00:29:49', '768', 'Dayton St & North Ave', 'Ogden Ave & Chicago Ave', 'Customer', '', '']\n",
      "['2017-01-01 00:17:13', '2017-01-01 11:03:34', '38781', 'Wilton Ave & Diversey Pkwy', 'Halsted St & Wrightwood Ave', 'Subscriber', 'Female', '1988.0']\n",
      "['2017-01-01 00:18:28', '2017-01-01 00:31:05', '757', 'Canal St & Madison St', 'LaSalle St & Illinois St', 'Customer', '', '']\n",
      "['2017-01-01 00:18:50', '2017-01-01 00:21:47', '177', 'Theater on the Lake', 'Lakeview Ave & Fullerton Pkwy', 'Subscriber', 'Male', '1991.0']\n",
      "['2017-01-01 00:23:41', '2017-01-01 00:29:13', '332', 'Halsted St & Maxwell St', 'Halsted St & 18th St', 'Subscriber', 'Male', '1984.0']\n",
      "['2017-01-01 00:25:47', '2017-01-01 00:39:53', '846', 'Ravenswood Ave & Lawrence Ave', 'Clarendon Ave & Gordon Ter', 'Subscriber', 'Female', '1987.0']\n",
      "['2017-01-01 00:25:47', '2017-01-01 00:43:23', '1056', 'Clark St & Congress Pkwy', 'Wolcott Ave & Polk St', 'Subscriber', 'Male', '1984.0']\n",
      "['2017-01-01 00:26:21', '2017-01-01 00:39:40', '799', 'Ravenswood Ave & Lawrence Ave', 'Clarendon Ave & Gordon Ter', 'Subscriber', 'Male', '1987.0']\n",
      "['2017-01-01 00:27:21', '2017-01-01 00:42:59', '938', 'Millennium Park', 'Michigan Ave & 18th St', 'Subscriber', 'Male', '1991.0']\n",
      "['2017-01-01 00:27:28', '2017-01-01 00:42:44', '916', 'Millennium Park', 'Michigan Ave & 18th St', 'Subscriber', 'Female', '1990.0']\n",
      "['2017-01-01 00:27:45', '2017-01-01 00:31:13', '208', 'Damen Ave & Chicago Ave', 'Damen Ave & Division St', 'Subscriber', 'Male', '1982.0']\n"
     ]
    }
   ],
   "source": [
    "#input(\"Press Enter to continue...\")\n",
    "# TASK 1\n",
    "# TODO: Print the first 20 rows using a loop to identify the data.\n",
    "print(\"\\n\\nTASK 1: Printing the first 20 samples\")\n",
    "\n",
    "for row in range(0, 21,1):\n",
    "    print(data_list[row])\n",
    "       \n",
    "# Let's change the data_list to remove the header from it.\n",
    "data_list = data_list[1:]\n",
    "\n",
    "# We can access the features through index\n",
    "# E.g. sample[6] to print gender or sample[-2]\n"
   ]
  },
  {
   "cell_type": "code",
   "execution_count": 5,
   "metadata": {},
   "outputs": [
    {
     "name": "stdout",
     "output_type": "stream",
     "text": [
      "\n",
      "TASK 2: Printing the genders of the first 20 samples\n",
      "\n",
      "Male\n",
      "Male\n",
      "Male\n",
      "Male\n",
      "Male\n",
      "Male\n",
      "\n",
      "\n",
      "\n",
      "Female\n",
      "\n",
      "Male\n",
      "Male\n",
      "Female\n",
      "Male\n",
      "Male\n",
      "Male\n",
      "Female\n",
      "Male\n",
      "Female\n"
     ]
    }
   ],
   "source": [
    "#input(\"Press Enter to continue...\")\n",
    "# TASK 2\n",
    "# TODO: Print the `gender` of the first 20 rows\n",
    "print(\"\\nTASK 2: Printing the genders of the first 20 samples\")\n",
    "\n",
    "gender_index = -2\n",
    "for row in range(21):\n",
    "    print(data_list[row][gender_index])\n",
    "\n",
    "\n",
    "# Cool! We can get the rows(samples) iterating with a for and the columns(features) by index.\n",
    "# But it's still hard to get a column in a list. Example: List with all genders\n"
   ]
  },
  {
   "cell_type": "code",
   "execution_count": 6,
   "metadata": {},
   "outputs": [
    {
     "name": "stdout",
     "output_type": "stream",
     "text": [
      "\n",
      "TASK 3: Printing the list of genders of the first 20 samples\n",
      "['', 'Male', 'Male', 'Male', 'Male', 'Male', 'Male', '', '', '', 'Female', '', 'Male', 'Male', 'Female', 'Male', 'Male', 'Male', 'Female', 'Male']\n"
     ]
    }
   ],
   "source": [
    "#input(\"Press Enter to continue...\")\n",
    "# TASK 3\n",
    "# TODO: Create a function to add the columns(features) of a list in another list in the same order\n",
    "\n",
    "\"\"\"\n",
    "This function takes a column(feature) of a list and turns it to a line.\n",
    "Args:\n",
    "  data: Receives a list.\n",
    "  index: The position of the desired column.\n",
    "Returns:\n",
    "  A list of a single feature.\n",
    "\"\"\"\n",
    "def column_to_list(data, index):\n",
    "    column_list = []\n",
    "    # Tip: You can use a for to iterate over the samples, get the feature by index and append into a list\n",
    "    for row in range(0, len(data), 1):\n",
    "        column_list.append(data[row][index])\n",
    "    return column_list\n",
    "\n",
    "\n",
    "# Let's check with the genders if it's working (only the first 20)\n",
    "print(\"\\nTASK 3: Printing the list of genders of the first 20 samples\")\n",
    "print(column_to_list(data_list, -2)[:20])\n",
    "\n",
    "# ------------ DO NOT CHANGE ANY CODE HERE ------------\n",
    "assert type(column_to_list(data_list, -2)) is list, \"TASK 3: Wrong type returned. It should return a list.\"\n",
    "assert len(column_to_list(data_list, -2)) == 1551505, \"TASK 3: Wrong lenght returned.\"\n",
    "assert column_to_list(data_list, -2)[0] == \"\" and column_to_list(data_list, -2)[1] == \"Male\", \"TASK 3: The list doesn't match.\"\n",
    "# -----------------------------------------------------"
   ]
  },
  {
   "cell_type": "code",
   "execution_count": 7,
   "metadata": {},
   "outputs": [
    {
     "name": "stdout",
     "output_type": "stream",
     "text": [
      "\n",
      "TASK 4: Printing how many males and females we found\n",
      "Male:  935854 \n",
      "Female:  298784\n"
     ]
    }
   ],
   "source": [
    "#input(\"Press Enter to continue...\")\n",
    "# Now we know how to access the features, let's count how many Males and Females the dataset have\n",
    "# TASK 4\n",
    "# TODO: Count each gender. You should not use a function to do that.\n",
    "male = 0\n",
    "female = 0\n",
    "\n",
    "for x in range(len(data_list)):\n",
    "    if (data_list[x][-2] == \"Male\"):\n",
    "        male+=1\n",
    "    elif(data_list[x][-2] == \"Female\"):\n",
    "        female+=1\n",
    "    \n",
    "\n",
    "# Checking the result\n",
    "print(\"\\nTASK 4: Printing how many males and females we found\")\n",
    "print(\"Male: \", male, \"\\nFemale: \", female)\n",
    "\n",
    "# ------------ DO NOT CHANGE ANY CODE HERE ------------\n",
    "assert male == 935854 and female == 298784, \"TASK 4: Count doesn't match.\"\n",
    "# -----------------------------------------------------"
   ]
  },
  {
   "cell_type": "code",
   "execution_count": 8,
   "metadata": {},
   "outputs": [
    {
     "name": "stdout",
     "output_type": "stream",
     "text": [
      "\n",
      "TASK 5: Printing result of count_gender\n",
      "[935854, 298784]\n"
     ]
    }
   ],
   "source": [
    "#input(\"Press Enter to continue...\")\n",
    "# Why don't we creeate a function to do that?\n",
    "# TASK 5\n",
    "# TODO: Create a function to count the genders. Return a list\n",
    "# Should return a list with [count_male, counf_female] (e.g., [10, 15] means 10 Males, 15 Females)\n",
    "\n",
    "\"\"\"\n",
    "This function counts the amount of \"Gender\" of a list.\n",
    "In our case, we have \"Female\" and \"Male\" as genders.\n",
    "Args:\n",
    "  data_list: Receives a list containing strs \"Female\" and \"Male\".\n",
    "Returns:\n",
    "  A list containing the amount of each gender.\n",
    "\"\"\"\n",
    "def count_gender(data_list):\n",
    "    male = 0\n",
    "    female = 0\n",
    "    \n",
    "    for x in range(len(data_list)):\n",
    "        if (data_list[x][-2] == \"Male\"):\n",
    "            male+=1\n",
    "        elif(data_list[x][-2] == \"Female\"):\n",
    "            female+=1\n",
    "    return [male, female]\n",
    "\n",
    "\n",
    "print(\"\\nTASK 5: Printing result of count_gender\")\n",
    "print(count_gender(data_list))\n",
    "\n",
    "# ------------ DO NOT CHANGE ANY CODE HERE ------------\n",
    "assert type(count_gender(data_list)) is list, \"TASK 5: Wrong type returned. It should return a list.\"\n",
    "assert len(count_gender(data_list)) == 2, \"TASK 5: Wrong lenght returned.\"\n",
    "assert count_gender(data_list)[0] == 935854 and count_gender(data_list)[1] == 298784, \"TASK 5: Returning wrong result!\"\n",
    "# -----------------------------------------------------\n",
    "\n"
   ]
  },
  {
   "cell_type": "code",
   "execution_count": 9,
   "metadata": {},
   "outputs": [
    {
     "name": "stdout",
     "output_type": "stream",
     "text": [
      "\n",
      "TASK 6: Which one is the most popular gender?\n",
      "Most popular gender is:  Male\n"
     ]
    },
    {
     "data": {
      "image/png": "[encoded data removed]",
      "text/plain": [
       "<matplotlib.figure.Figure at 0x14d6deda0>"
      ]
     },
     "metadata": {},
     "output_type": "display_data"
    }
   ],
   "source": [
    "#input(\"Press Enter to continue...\")\n",
    "# Now we can count the users, which gender use it the most?\n",
    "# TASK 6\n",
    "# TODO: Create a function to get the most popular gender and print the gender as string.\n",
    "# We expect to see \"Male\", \"Female\" or \"Equal\" as answer.\n",
    "\n",
    "\"\"\"\n",
    "This function counts the amount of \"Gender\" of a list.\n",
    "In our case, we have \"Female\" and \"Male\" as genders.\n",
    "Args:\n",
    "  data_list: Receives a list containing strs \"Female\" and \"Male\".\n",
    "Returns:\n",
    "  A str containing the gender with highest number.\n",
    "\"\"\"\n",
    "def most_popular_gender(data_list):\n",
    "    answer = \"\"    \n",
    "    gender_list = count_gender(data_list)\n",
    "    \n",
    "    if(gender_list[0] > gender_list[1]):\n",
    "        answer = \"Male\"\n",
    "    elif(gender_list[0] < gender_list[1]):\n",
    "        answer = \"Female\"\n",
    "    else:\n",
    "        answer = \"Equal\"  \n",
    "    return answer\n",
    "\n",
    "\n",
    "print(\"\\nTASK 6: Which one is the most popular gender?\")\n",
    "print(\"Most popular gender is: \", most_popular_gender(data_list))\n",
    "\n",
    "# ------------ DO NOT CHANGE ANY CODE HERE ------------\n",
    "assert type(most_popular_gender(data_list)) is str, \"TASK 6: Wrong type returned. It should return a string.\"\n",
    "assert most_popular_gender(data_list) == \"Male\", \"TASK 6: Returning wrong result!\"\n",
    "# -----------------------------------------------------\n",
    "\n",
    "# If it's everything running as expected, check this graph!\n",
    "gender_list = column_to_list(data_list, -2)\n",
    "types = [\"Male\", \"Female\"]\n",
    "quantity = count_gender(data_list)\n",
    "y_pos = list(range(len(types)))\n",
    "plt.bar(y_pos, quantity)\n",
    "plt.ylabel('Quantity')\n",
    "plt.xlabel('Gender')\n",
    "plt.xticks(y_pos, types)\n",
    "plt.title('Quantity by Gender')\n",
    "plt.show(block=True)"
   ]
  },
  {
   "cell_type": "code",
   "execution_count": 10,
   "metadata": {},
   "outputs": [
    {
     "name": "stdout",
     "output_type": "stream",
     "text": [
      "[317162, 1234339]\n",
      "\n",
      "TASK 7: Check the chart!\n"
     ]
    },
    {
     "data": {
      "image/png": "[encoded data removed]",
      "text/plain": [
       "<matplotlib.figure.Figure at 0x14d706ac8>"
      ]
     },
     "metadata": {},
     "output_type": "display_data"
    }
   ],
   "source": [
    "#input(\"Press Enter to continue...\")\n",
    "# TASK 7\n",
    "# TODO: Plot a similar graph for user_types. Make sure the legend is correct.\n",
    "user_type_list = column_to_list(data_list, -3)\n",
    "\n",
    "\"\"\"\n",
    "This function counts the amount of \"User Type\" of a list.\n",
    "In our case, we have \"Customer\" and \"Subscriber\" as user types.\n",
    "Args:\n",
    "  data_list: Receives a list containing strs \"Customer\" and \"Subscriber\".\n",
    "Returns:\n",
    "  A list with the amount of \"Customer\" and \"Subscriber\".\n",
    "\"\"\"\n",
    "def count_user_type(data_list):\n",
    "    customer = 0\n",
    "    subscriber = 0\n",
    "    \n",
    "    for x in range(len(data_list)):\n",
    "        if (data_list[x][-3] == \"Customer\"):\n",
    "            customer+=1\n",
    "        elif(data_list[x][-3] == \"Subscriber\"):\n",
    "            subscriber+=1\n",
    "    return [customer, subscriber]\n",
    "\n",
    "print(count_user_type(data_list))\n",
    "\n",
    "print(\"\\nTASK 7: Check the chart!\")\n",
    "types = [\"Customer\", \"Subscriber\"]\n",
    "quantity = count_user_type(data_list)\n",
    "y_pos = list(range(len(types)))\n",
    "plt.bar(y_pos, quantity)\n",
    "plt.ylabel('Quantity')\n",
    "plt.xlabel('User Type')\n",
    "plt.xticks(y_pos, types)\n",
    "plt.title('Quantity by User Type')\n",
    "plt.show(block=True)"
   ]
  },
  {
   "cell_type": "code",
   "execution_count": 24,
   "metadata": {},
   "outputs": [
    {
     "name": "stdout",
     "output_type": "stream",
     "text": [
      "\n",
      "TASK 8: Why the following condition is False?\n",
      "male + female == len(data_list): False\n",
      "Male + Female = 1234638 and len(data_list) = 1551505\n",
      "Answer: Not all genders are filled.\n"
     ]
    }
   ],
   "source": [
    "#input(\"Press Enter to continue...\")\n",
    "# TASK 8\n",
    "# TODO: Answer the following question\n",
    "male, female = count_gender(data_list)\n",
    "print(\"\\nTASK 8: Why the following condition is False?\")\n",
    "print(\"male + female == len(data_list):\", male + female == len(data_list))\n",
    "print(\"Male + Female = {} and len(data_list) = {}\".format((male+female), len(data_list)))\n",
    "answer = \"Not all genders are filled.\"\n",
    "print(\"Answer:\", answer)\n",
    "\n",
    "# ------------ DO NOT CHANGE ANY CODE HERE ------------\n",
    "assert answer != \"Type your answer here.\", \"TASK 8: Write your own answer!\"\n",
    "# -----------------------------------------------------"
   ]
  },
  {
   "cell_type": "code",
   "execution_count": 111,
   "metadata": {},
   "outputs": [
    {
     "name": "stdout",
     "output_type": "stream",
     "text": [
      "\n",
      "TASK 9: Printing the min, max, mean and median\n",
      "Min:  60 Max:  86338 Mean:  940 Median:  670\n"
     ]
    }
   ],
   "source": [
    "#input(\"Press Enter to continue...\")\n",
    "# Let's work with the trip_duration now. We cant get some values from it.\n",
    "# TASK 9\n",
    "# TODO: Find the Minimum, Maximum, Mean and Median trip duration.\n",
    "# You should not use ready functions to do that, like max() or min().\n",
    "\n",
    "trip_duration_list = column_to_list(data_list, 2)\n",
    "int_trip_duration_list = [int(x) for x in trip_duration_list]\n",
    "\n",
    "min_trip = 0.\n",
    "max_trip = 0.\n",
    "mean_trip = 0.\n",
    "median_trip = 0.\n",
    "\n",
    "\"\"\"\n",
    "This function calculates the minimum value of a list.\n",
    "Args:\n",
    "  data_list: Receives any list.\n",
    "Returns:\n",
    "  Min value of the list.\n",
    "\"\"\"\n",
    "def min_list(data_list):\n",
    "    min_value = 0\n",
    "    for x in data_list:\n",
    "        if(min_value == 0):\n",
    "            min_value = x\n",
    "        elif(x < min_value):\n",
    "            min_value = x\n",
    "    return min_value\n",
    "\n",
    "\"\"\"\n",
    "This function calculates the maximum value of a list.\n",
    "Args:\n",
    "  data_list: Receives any list.\n",
    "Returns:\n",
    "  Max value of the list.\n",
    "\"\"\"\n",
    "def max_list(data_list):\n",
    "    max_value = 0\n",
    "    for x in data_list:\n",
    "        if(x > max_value):\n",
    "            max_value = x\n",
    "    return max_value\n",
    "\n",
    "\"\"\"\n",
    "This function calculates the mean value of a list.\n",
    "Args:\n",
    "  data_list: Receives any list.\n",
    "Returns:\n",
    "  Mean value of the list.\n",
    "\"\"\"\n",
    "def mean_list(data_list):\n",
    "    sum_list = 0\n",
    "    for num in data_list:\n",
    "        sum_list += num \n",
    "    mean_value = round(sum_list/len(data_list))\n",
    "    return mean_value\n",
    "\n",
    "\"\"\"\n",
    "This function calculates the median value of a list.\n",
    "Remembering that the list needs to be sorted and of integers.\n",
    "Args:\n",
    "  data_list: Receives any list.\n",
    "Returns:\n",
    "  Median value of the list.\n",
    "\"\"\"\n",
    "def median_list(data_list):\n",
    "    n = len(data_list)\n",
    "    if(n%2 == 1): #odd size = even positions, len(n) = 5 -> [0..4]\n",
    "        median_value = sorted(data_list)[n//2]\n",
    "        #print(\"Length of the list: {} Median's position: {}\".format(n, n//2))\n",
    "    else:\n",
    "        median_trip = (sorted(trip_duration_list)[n//2 -1] + \n",
    "        sorted(trip_duration_list)[n//2])/2.0\n",
    "        #print(\"Length of the list = {} Median's position = {} & {}\".format(n, n//2 -1,n//2))\n",
    "    return median_value\n",
    "\n",
    "min_trip = min_list(int_trip_duration_list)\n",
    "max_trip = max_list(int_trip_duration_list)\n",
    "mean_trip = mean_list(int_trip_duration_list)\n",
    "median_trip = median_list(int_trip_duration_list)\n",
    "\n",
    "\n",
    "print(\"\\nTASK 9: Printing the min, max, mean and median\")\n",
    "print(\"Min: \", min_trip, \"Max: \", max_trip, \"Mean: \", mean_trip, \"Median: \", median_trip)\n",
    "\n",
    "# ------------ DO NOT CHANGE ANY CODE HERE ------------\n",
    "assert round(min_trip) == 60, \"TASK 9: min_trip with wrong result!\"\n",
    "assert round(max_trip) == 86338, \"TASK 9: max_trip with wrong result!\"\n",
    "assert round(mean_trip) == 940, \"TASK 9: mean_trip with wrong result!\"\n",
    "assert round(median_trip) == 670, \"TASK 9: median_trip with wrong result!\"\n",
    "# -----------------------------------------------------"
   ]
  },
  {
   "cell_type": "code",
   "execution_count": 76,
   "metadata": {
    "collapsed": true
   },
   "outputs": [
    {
     "name": "stdout",
     "output_type": "stream",
     "text": [
      "\n",
      "TASK 10: Printing start stations:\n",
      "582\n",
      "{'Throop St & 52nd St', 'Michigan Ave & Congress Pkwy', 'Jeffery Blvd & 71st St', 'Loomis St & Jackson Blvd', 'Richmond St & Diversey Ave', 'Sheffield Ave & Wellington Ave', 'Leavitt St & Archer Ave', 'Damen Ave & Grand Ave', 'Stave St & Armitage Ave', 'Wabash Ave & Wacker Pl', 'Kostner Ave & Adams St', 'Ashland Ave & McDowell Ave', 'Cityfront Plaza Dr & Pioneer Ct', 'California Ave & Division St', 'State St & 33rd St', 'Hermitage Ave & Polk St', 'Lawndale Ave & 23rd St', 'Loomis St & Archer Ave', 'Morgan St & 31st St', 'California Ave & North Ave', 'Western Ave & Winnebago Ave', 'Wacker Dr & Washington St', 'Damen Ave & Wellington Ave', 'Ravenswood Ave & Irving Park Rd', 'Kedzie Ave & Bryn Mawr Ave', 'Budlong Woods Library', 'Lincoln Ave & Belmont Ave', 'Blue Island Ave & 18th St', 'Greenwood Ave & 47th St', 'Clark St & Columbia Ave', 'Lakefront Trail & Bryn Mawr Ave', 'Cornell Ave & Hyde Park Blvd', 'Greenview Ave & Fullerton Ave', 'Lincoln Ave & Waveland Ave', 'Calumet Ave & 35th St', 'Halsted St & North Branch St', 'Wells St & Polk St', 'Field Museum', 'Oakley Ave & Irving Park Rd', 'Marion St & South Blvd', 'May St & Cullerton St', 'Artesian Ave & Hubbard St', 'Kedzie Ave & Foster Ave', 'Damen Ave & Melrose Ave', 'Warren Park West', 'Dearborn St & Monroe St', 'Halsted St & Wrightwood Ave', 'Drake Ave & Montrose Ave', 'Larrabee St & Webster Ave', 'Clarendon Ave & Leland Ave', 'Stetson Ave & South Water St', 'Indiana Ave & 31st St', 'Wood St & Milwaukee Ave', 'Milwaukee Ave & Rockwell St', 'Ashland Ave & 63rd St', 'Forest Ave & Chicago Ave', 'Kilbourn Ave & Irving Park Rd', 'Millennium Park', 'Cottage Grove Ave & 43rd St', 'Dusable Harbor', 'Lakeview Ave & Fullerton Pkwy', 'Clinton St & Roosevelt Rd', 'Oak Park Ave & Harrison St', 'Lake Shore Dr & Ohio St', 'Wells St & Huron St', 'Halsted St & Roscoe St', 'Michigan Ave & Oak St', 'Wolcott Ave & Fargo Ave', 'Rush St & Cedar St', 'Ashland Ave & Garfield Blvd', 'Lincoln Ave & Belle Plaine Ave', 'Avondale Ave & Irving Park Rd', 'Elston Ave & Wabansia Ave', 'Ogden Ave & Race Ave', 'Michigan Ave & Washington St', 'Humboldt Blvd & Armitage Ave', 'Morgan Ave & 14th Pl', 'Field Blvd & South Water St', 'Central Ave & Harrison St', 'Damen Ave & Leland Ave', 'Keystone Ave & Montrose Ave', 'State St & Randolph St', 'Sacramento Blvd & Franklin Blvd', 'Sheridan Rd & Irving Park Rd', 'Larrabee St & North Ave', 'Broadway & Barry Ave', 'Kedzie Ave & Palmer Ct', 'Calumet Ave & 33rd St', 'Central Park Ave & Elbridge Ave', 'Racine Ave & 35th St', 'Lombard Ave & Madison St', 'Ridge Blvd & Howard St', 'Milwaukee Ave & Grand Ave', 'St. Clair St & Erie St', 'Lake Shore Dr & Diversey Pkwy', 'Clark St & Congress Pkwy', 'Ashland Ave & 21st St', 'Cicero Ave & Flournoy St', 'South Shore Dr & 71st St', 'Clybourn Ave & Division St', 'Halsted St & 18th St', 'California Ave & Francis Pl', 'Millard Ave & 26th St', 'Mies van der Rohe Way & Chestnut St', 'Western Ave & Granville Ave', 'University Ave & 57th St', 'Campbell Ave & North Ave', 'Clark St & Randolph St', 'Wells St & Evergreen Ave', 'Wentworth Ave & 24th St', 'Racine Ave & 15th St', 'Bennett Ave & 79th St', 'Racine Ave & Fullerton Ave', 'Orleans St & Elm St (*)', 'Dayton St & North Ave', 'Eberhart Ave & 61st St', 'St. Louis Ave & Balmoral Ave', 'Clifton Ave & Lawrence Ave', 'McClurg Ct & Erie St', 'Lake Park Ave & 53rd St', 'Western Ave & Lunt Ave', 'Talman Ave & Addison St', 'Glenwood Ave & Morse Ave', 'Clark St & 9th St (AMLI)', 'Michigan Ave & Madison St', 'Southport Ave & Wellington Ave', 'Indiana Ave & 40th St', 'Greenview Ave & Jarvis Ave', 'Seeley Ave & Roscoe St', 'Christiana Ave & Lawrence Ave', 'South Shore Dr & 74th St', 'Troy St & Elston Ave', 'Broadway & Belmont Ave', 'Damen Ave & 59th St', 'Pine Grove Ave & Irving Park Rd', 'Fairfield Ave & Roosevelt Rd', 'Halsted St & 47th Pl', 'Broadway & Granville Ave', 'Broadway & Cornelia Ave', 'Manor Ave & Leland Ave', 'Wells St & 19th St', 'Oakley Ave & Roscoe St', 'Damen Ave & Chicago Ave', 'Stony Island Ave & 67th St', 'Broadway & Waveland Ave', 'Federal St & Polk St', 'MLK Jr Dr & 63rd St', 'Clark St & Lincoln Ave', 'Broadway & Argyle St', 'Halsted St & 21st St', 'Wells St & Elm St', 'Rockwell St & Eastwood Ave', 'Morgan St & Polk St', 'Ashland Ave & 13th St', 'MLK Jr Dr & 47th St', 'California Ave & 23rd Pl', 'Cottage Grove Ave & 47th St', 'Milwaukee Ave & Wabansia Ave', 'Halsted St & Blackhawk St (*)', 'Michigan Ave & 18th St', 'Buckingham Fountain', 'Damen Ave & Division St', 'Desplaines St & Jackson Blvd', 'Shore Dr & 55th St', 'Racine Ave & Wrightwood Ave', 'Lake Park Ave & 47th St', 'Dorchester Ave & 49th St', 'California Ave & Lake St', 'Stony Island Ave & 64th St', 'Princeton Ave & 47th St', 'Southport Ave & Irving Park Rd', 'Wood St & Division St', 'Clark St & Jarvis Ave', 'Wabash Ave & Grand Ave', 'Ashland Ave & Wrightwood Ave', 'Central Park Ave & North Ave', 'Normal Ave & Archer Ave', 'Leavitt St & Armitage Ave', 'Stockton Dr & Wrightwood Ave', 'LaSalle St & Washington St', 'Halsted St & 59th St', 'Clark St & Wrightwood Ave', 'Washtenaw Ave & Lawrence Ave', 'Ashland Ave & 69th St', 'Sheffield Ave & Webster Ave', 'Logan Blvd & Elston Ave', 'Indiana Ave & 26th St', 'Calumet Ave & 21st St', 'Kimbark Ave & 53rd St', 'Conservatory Dr & Lake St', 'Western Blvd & 48th Pl', 'Green St & Randolph St', 'Rainbow Beach', 'Broadway & Wilson Ave', 'Elmwood Ave & Austin St', 'Clinton St & Jackson Blvd', 'Kosciuszko Park', 'Elizabeth St & 47th St', 'Theater on the Lake', 'California Ave & Montrose Ave', 'Oakley Ave & Touhy Ave', 'Southport Ave & Clybourn Ave', 'Clark St & Chicago Ave', 'Racine Ave & Garfield Blvd', 'Stony Island Ave & 71st St', 'Franklin St & Chicago Ave', 'Prairie Ave & 43rd St', 'Ellis Ave & 53rd St', 'Perry Ave & 69th St', 'Ashland Ave & Pershing Rd', 'Halsted St & 51st St', 'Lincoln Ave & Roscoe St', 'MLK Jr Dr & Oakwood Blvd', 'Clark St & Grace St', 'Rush St & Hubbard St', 'Shields Ave & 31st St', 'Ashland Ave & Lake St', 'Ridge Blvd & Touhy Ave', 'State St & Harrison St', 'California Ave & Fletcher St', 'Damen Ave & Coulter St', 'Sheridan Rd & Noyes St (NU)', 'Shields Ave & 43rd St', 'Western Ave & Howard St', 'Chicago Ave & Sheridan Rd', 'Albany Ave & Bloomingdale Ave', 'Halsted St & 63rd St', 'Spaulding Ave & Armitage Ave', 'Cottage Grove Ave & 51st St', 'Wabash Ave & 8th St', 'Knox Ave & Montrose Ave', 'Marshfield Ave & Cortland St', 'DuSable Museum', 'Lincoln Ave & Leavitt St', 'Damen Ave & Pierce Ave', 'Larrabee St & Menomonee St', 'Greenwood Ave & 79th St', 'Rush St & Superior St', 'Clinton St & 18th St', 'Clark St & Elmdale Ave', 'Ravenswood Ave & Lawrence Ave', 'Halsted St & 56th St', 'Lake Shore Dr & Belmont Ave', 'Normal Ave & 72nd St', 'Western Ave & Leland Ave', 'Paulina Ave & North Ave', 'Franklin St & Monroe St', 'Stony Island Ave & South Chicago Ave', 'Franklin St & Jackson Blvd', 'Marshfield Ave & 59th St', 'Dearborn St & Adams St', 'Ravenswood Ave & Berteau Ave', 'Ellis Ave & 58th St', 'Cottage Grove Ave & 67th St', 'Fairbanks Ct & Grand Ave', 'Warren Park East', 'Spaulding Ave & Division St', 'Loomis St & Taylor St (*)', 'Yates Blvd & 75th St', 'Wood St & Hubbard St', 'Racine Ave & 65th St', 'Clinton St & Washington Blvd', 'State St & 35th St', 'Vernon Ave & 75th St', 'Vernon Ave & 79th St', 'Commercial Ave & 83rd St', 'Halsted St & Maxwell St', 'Wentworth Ave & 63rd St', 'State St & 29th St', 'Franklin St & Lake St', 'Larrabee St & Armitage Ave', 'Cottage Grove Ave & Oakwood Blvd', 'Ritchie Ct & Banks St', 'Columbus Dr & Randolph St', 'Desplaines St & Randolph St', 'May St & 69th St', 'Campbell Ave & Montrose Ave', 'Sheffield Ave & Willow St', 'Canal St & Taylor St', 'Central Ave & Lake St', 'May St & Taylor St', 'Southport Ave & Clark St', 'Halsted St & Archer Ave', 'Oak Park Ave & South Blvd', 'Western Ave & Division St', 'South Chicago Ave & 83rd St', 'State St & Pearson St', 'Streeter Dr & Grand Ave', 'Leavitt St & Lawrence Ave', 'State St & 76th St', 'Campbell Ave & Fullerton Ave', 'Morgan St & 18th St', 'California Ave & 21st St', 'Ashland Ave & Wellington Ave', 'Valli Produce - Evanston Plaza', 'South Shore Dr & 67th St', '2112 W Peterson Ave', 'Pine Grove Ave & Waveland Ave', 'Racine Ave (May St) & Fulton St', 'Wallace St & 35th St', 'Emerald Ave & 28th St', 'Southport Ave & Waveland Ave', 'Forest Ave & Lake St', 'Cottage Grove Ave & 63rd St', 'Central St Metra', 'Seeley Ave & Garfield Blvd', 'Lincoln Ave & Fullerton Ave', 'Ogden Ave & Roosevelt Rd', 'Museum of Science and Industry', 'Rhodes Ave & 32nd St', 'Adler Planetarium', 'Canal St & Adams St', 'Sedgwick St & Webster Ave', 'Montrose Harbor', 'Sheffield Ave & Fullerton Ave', 'Ravenswood Ave & Montrose Ave (*)', 'Ellis Ave & 83rd St', 'Kilbourn Ave & Milwaukee Ave', 'Daley Center Plaza', 'Sheridan Rd & Greenleaf Ave', 'Ashland Ave & Grand Ave', 'Sedgwick St & North Ave', 'State St & 19th St', 'State St & Van Buren St', 'Financial Pl & Congress Pkwy', 'Shields Ave & 28th Pl', 'Wabash Ave & Roosevelt Rd', 'Wabash Ave & Cermak Rd', 'Wells St & Walton St', 'Calumet Ave & 18th St', 'Clark St & North Ave', 'Sheffield Ave & Waveland Ave', 'Cannon Dr & Fullerton Ave', 'Winchester Ave & Elston Ave', 'Halsted St & 37th St', 'Green St & Madison St', 'Aberdeen St & Monroe St', 'Canal St & Monroe St (*)', 'Clark St & Wellington Ave', 'Paulina St & 18th St', 'Austin Blvd & Chicago Ave', 'Clark St & Montrose Ave', 'Keystone Ave & Fullerton Ave', 'Jefferson St & Monroe St', 'Union Ave & Root St', 'MLK Jr Dr & 56th St (*)', 'Woodlawn Ave & 75th St', 'Racine Ave & 61st St', 'Broadway & Thorndale Ave', 'Sheffield Ave & Wrightwood Ave', 'Clark St & Touhy Ave', 'Clinton St & Madison St', 'Central Ave & Madison St', 'Ada St & Washington Blvd', 'Wood St & 35th St', 'Claremont Ave & Hirsch St', 'Clarendon Ave & Gordon Ter', 'Sedgwick St & Schiller St', 'Larrabee St & Oak St', 'Central Park Ave & Ogden Ave', 'State St & Kinzie St', 'Lombard Ave & Garfield St', 'Michigan Ave & 8th St', 'Wilton Ave & Diversey Pkwy', 'Marine Dr & Ainslie St', 'Lake Park Ave & 35th St', 'Austin Blvd & Lake St', 'Canal St & Harrison St', 'Calumet Ave & 51st St', 'Ashland Ave & Archer Ave', 'Ashland Ave & Grace St', 'Halsted St & Roosevelt Rd', 'Lincoln Ave & Addison St', 'Ashland Ave & 50th St', 'Albany Ave & 26th St', 'Halsted St & Willow St', 'Ridgeland Ave & Lake St', 'LaSalle St & Illinois St', 'Halsted St & Dickens Ave', 'Ashland Ave & Division St', 'LaSalle St & Adams St', 'Morgan St & Pershing Rd', 'Francisco Ave & Foster Ave', 'McClurg Ct & Illinois St', 'Racine Ave & Congress Pkwy', 'State St & Pershing Rd', 'Ravenswood Ave & Balmoral Ave', 'McCormick Place', 'Central Park Blvd & 5th Ave', 'Saginaw Ave & Exchange Ave', 'Clark St & Armitage Ave', 'Broadway & Sheridan Rd', 'Clark St & Lunt Ave', 'MLK Jr Dr & 83rd St', 'Marshfield Ave & 44th St', 'East Ave & Garfield St', 'California Ave & Milwaukee Ave', 'Avers Ave & Belmont Ave', 'Lake Shore Dr & Monroe St', 'Western Ave & 28th St', 'Larrabee St & Division St', 'Michigan Ave & Lake St', 'Benson Ave & Church St', 'Racine Ave & 18th St', '63rd St Beach', 'Lincoln Ave & Winona St', 'Cuyler Ave & Augusta St', 'Central Ave & Chicago Ave', 'Drake Ave & Addison St', 'University Library (NU)', 'Damen Ave & Augusta Blvd', 'Cottage Grove Ave & 78th St', 'Pulaski Rd & Madison St', 'State St & 79th St', 'Troy St & North Ave', 'Wentworth Ave & 33rd St', 'Ogden Ave & Chicago Ave', 'Ashland Ave & Augusta Blvd', 'Western Ave & Monroe St', 'Kedzie Ave & Leland Ave', 'Mies van der Rohe Way & Chicago Ave', 'Glenwood Ave & Touhy Ave', 'Monticello Ave & Irving Park Rd', 'Woodlawn Ave & Lake Park Ave', 'MLK Jr Dr & 29th St', 'Wentworth Ave & Archer Ave', 'Clinton St & Tilden St', 'Western Ave & Congress Pkwy', 'Pulaski Rd & Lake St', 'Halsted St & 69th St', 'Dearborn St & Erie St', 'Cicero Ave & Quincy St', 'Bissell St & Armitage Ave', 'Central St & Girard Ave', 'Clinton St & Lake St', 'Racine Ave & Randolph St', 'Ashland Ave & 66th St', 'Halsted St & Polk St', 'Loomis St & Lexington St', 'Damen Ave & Cortland St', 'Bosworth Ave & Howard St', 'Shedd Aquarium', 'Kimball Ave & Belmont Ave', 'Desplaines St & Kinzie St', 'Cottage Grove Ave & 71st St', 'Fort Dearborn Dr & 31st St', 'Orleans St & Merchandise Mart Plaza', 'Southport Ave & Wrightwood Ave', 'Damen Ave & Pershing Rd', 'Laramie Ave & Kinzie St', 'Western Ave & 24th St', 'Woodlawn Ave & 55th St', 'Cottage Grove Ave & 83rd St', 'Racine Ave & Belmont Ave', 'Ashland Ave & Blackhawk St', 'Kingsbury St & Erie St', 'Larrabee St & Kingsbury St', 'Paulina St & Howard St', 'Sheridan Rd & Loyola Ave', 'Harper Ave & 59th St', 'Lake Shore Dr & North Blvd', 'Wabash Ave & Adams St', 'Peoria St & Jackson Blvd', 'Phillips Ave & 82nd St', 'Chicago Ave & Washington St', 'Broadway & Ridge Ave', 'Franklin St & Quincy St', 'California Ave & Altgeld St', 'Orleans St & Chestnut St (NEXT Apts)', 'Noble St & Milwaukee Ave', 'Kedzie Ave & Milwaukee Ave', 'Kostner Ave & Lake St', 'Sangamon St & Washington Blvd (*)', 'Western Ave & Walton St', 'Damen Ave & Foster Ave', 'Milwaukee Ave & Cuyler Ave', 'Hampden Ct & Diversey Pkwy', 'Stony Island Ave & 82nd St', 'Stony Island Ave & 75th St', 'Kenton Ave & Madison St', 'Clifton Ave & Armitage Ave', 'Hoyne Ave & 47th St', 'Clinton St & Polk St (*)', 'Exchange Ave & 79th St', 'Jeffery Blvd & 76th St', 'Pulaski Rd & Eddy St', 'Wilton Ave & Belmont Ave', 'Southport Ave & Belmont Ave', 'Eckhart Park', 'Phillips Ave & 79th St', 'Damen Ave & Charleston St', 'Damen Ave & Cullerton St', 'Damen Ave & Sunnyside Ave', 'Morgan St & Lake St', 'Wood St & Taylor St', 'Leavitt St & North Ave', 'Mason Ave & Madison St', 'Clark St & Leland Ave', 'Dodge Ave & Church St', 'Sedgwick St & Huron St', 'Ashland Ave & Chicago Ave', 'Damen Ave & Madison St', 'Albany (Kedzie) Ave & Montrose Ave', 'Broadway & Berwyn Ave', 'Kedzie Ave & Chicago Ave', 'Wisconsin Ave & Madison St', 'LaSalle St & Jackson Blvd', 'Humphrey Ave & Ontario St', 'Blackstone Ave & Hyde Park Blvd', 'Kedzie Ave & 24th St', 'Ogden Ave & Congress Pkwy', 'Drake Ave & Fullerton Ave', 'Wentworth Ave & 35th St', 'Aberdeen St & Jackson Blvd', 'Kedzie Ave & Lake St', 'Lake Shore Dr & Wellington Ave', '900 W Harrison St', 'Southport Ave & Roscoe St', 'Wabash Ave & 16th St', 'Emerald Ave & 31st St', 'Maplewood Ave & Peterson Ave', 'Sawyer Ave & Irving Park Rd', 'Ellis Ave & 55th St', 'Sheffield Ave & Kingsbury St', 'California Ave & Cortez St', 'Ashland Ave & Belle Plaine Ave', 'Prairie Ave & Garfield Blvd', 'Ellis Ave & 60th St', 'Lake Park Ave & 56th St', 'Burnham Harbor', 'Dearborn Pkwy & Delaware Pl', 'Ashland Ave & Harrison St', 'Clark St & Winnemac Ave', 'Sheridan Rd & Montrose Ave', 'Damen Ave & Clybourn Ave', 'Pulaski Rd & Congress Pkwy', 'Kedzie Ave & 21st St', 'Wabash Ave & 83rd St', 'Halsted St & 35th St (*)', 'Evans Ave & 75th St', 'Kedzie Ave & Roosevelt Rd', 'Halsted St & Diversey Pkwy', 'Dorchester Ave & 63rd St', 'Washtenaw Ave & 15th St (*)', 'Orleans St & Ohio St', 'Kedzie Ave & Harrison St', 'Sheridan Rd & Buena Ave', 'Leavitt St & Addison St', 'Clark St & Berwyn Ave', 'California Ave & Byron St', 'Michigan Ave & 14th St', 'Clark St & Schreiber Ave', 'Paulina St & Montrose Ave', 'Jeffery Blvd & 67th St', 'Carpenter St & Huron St', 'Clark St & Schiller St', 'East Ave & Madison St', 'Damen Ave & 51st St', 'Princeton Ave & Garfield Blvd', 'Eastlake Ter & Rogers Ave', 'Clark St & Lake St', 'Wabash Ave & 87th St', 'Clark St & Bryn Mawr Ave', 'Sheridan Rd & Lawrence Ave', 'Canal St & Madison St', 'Lincoln Ave & Diversey Pkwy', 'Michigan Ave & Jackson Blvd', 'California Ave & 26th St', 'Laramie Ave & Gladys Ave', 'Western Ave & 21st St', 'Wells St & Concord Ln', 'Michigan Ave & Pearson St', 'Kingsbury St & Kinzie St', 'Greenview Ave & Diversey Pkwy', 'Clark St & Elm St', 'Racine Ave & 13th St', 'Calumet Ave & 71st St', 'Clarendon Ave & Junior Ter', 'Cicero Ave & Lake St', 'Laramie Ave & Madison St', 'Indiana Ave & Roosevelt Rd', 'Wolcott Ave & Polk St'}\n"
     ]
    }
   ],
   "source": [
    "#input(\"Press Enter to continue...\")\n",
    "# TASK 10\n",
    "# Gender is easy because usually only have a few options. How about start_stations? How many options does it have?\n",
    "# TODO: Check types how many start_stations do we have using set()\n",
    "#Remember: setes has no duplicates and it's unordered, wich means that there's no position[n]\n",
    "user_types = set()\n",
    "\n",
    "for x in range(len(data_list)):\n",
    "    user_types.add(data_list[x][3])\n",
    "    \n",
    "print(\"\\nTASK 10: Printing start stations:\")\n",
    "print(len(user_types))\n",
    "print(user_types)\n",
    "\n",
    "# ------------ DO NOT CHANGE ANY CODE HERE ------------\n",
    "assert len(user_types) == 582, \"TASK 10: Wrong len of start stations.\"\n",
    "# -----------------------------------------------------\n"
   ]
  },
  {
   "cell_type": "code",
   "execution_count": 78,
   "metadata": {},
   "outputs": [
    {
     "data": {
      "text/plain": [
       "'\\nExample function with annotations.\\nArgs:\\n  param1: The first parameter.\\n  param2: The second parameter.\\nReturns:\\n  List of X values\\n\\n'"
      ]
     },
     "execution_count": 78,
     "metadata": {},
     "output_type": "execute_result"
    }
   ],
   "source": [
    "#input(\"Press Enter to continue...\")\n",
    "# TASK 11\n",
    "# Go back and make sure you documented your functions. Explain the input, output and what it do. Example:\n",
    "# def new_function(param1: int, param2: str) -> list:\n",
    "\"\"\"\n",
    "Example function with annotations.\n",
    "Args:\n",
    "  param1: The first parameter.\n",
    "  param2: The second parameter.\n",
    "Returns:\n",
    "  List of X values\n",
    "\"\"\""
   ]
  },
  {
   "cell_type": "code",
   "execution_count": 128,
   "metadata": {},
   "outputs": [
    {
     "name": "stdout",
     "output_type": "stream",
     "text": [
      "Will you face it?\n",
      "\n",
      "TASK 11: Printing results for count_items()\n",
      "Types: ['', 'Male', 'Female'] Counts: [316867, 935854, 298784]\n"
     ]
    }
   ],
   "source": [
    "#input(\"Press Enter to continue...\")\n",
    "# TASK 12 - Challenge! (Optional)\n",
    "# TODO: Create a function to count user types without hardcoding the types\n",
    "# so we can use this function with a different kind of data.\n",
    "print(\"Will you face it?\")\n",
    "answer = \"yes\"\n",
    "\n",
    "\"\"\"\n",
    "Function that counts user types without hardcoding the types.\n",
    "Args:\n",
    "  colomn_list: A list of features.\n",
    "Returns:\n",
    "  List of the types encoutered in the list and another list\n",
    "  with how many are them.\n",
    "\"\"\"\n",
    "def count_items(column_list):\n",
    "    item_types = []\n",
    "    count_items = []\n",
    "    for item in column_list:\n",
    "        if item not in item_types:\n",
    "            item_types.append(item)\n",
    "            count_items.append(1) #count for the first time\n",
    "        else:\n",
    "            count_items[item_types.index(item)] += 1\n",
    "    return item_types, count_items\n",
    "\n",
    "if answer == \"yes\":\n",
    "    # ------------ DO NOT CHANGE ANY CODE HERE ------------\n",
    "    column_list = column_to_list(data_list, -2)\n",
    "    types, counts = count_items(column_list)    \n",
    "    print(\"\\nTASK 11: Printing results for count_items()\")\n",
    "    print(\"Types:\", types, \"Counts:\", counts)\n",
    "    assert len(types) == 3, \"TASK 11: There are 3 types of gender!\"\n",
    "    assert sum(counts) == 1551505, \"TASK 11: Returning wrong result!\"\n",
    "    # -----------------------------------------------------\n",
    "    \n",
    "    "
   ]
  },
  {
   "cell_type": "code",
   "execution_count": null,
   "metadata": {},
   "outputs": [],
   "source": []
  }
 ],
 "metadata": {
  "kernelspec": {
   "display_name": "Python 3",
   "language": "python",
   "name": "python3"
  },
  "language_info": {
   "codemirror_mode": {
    "name": "ipython",
    "version": 3
   },
   "file_extension": ".py",
   "mimetype": "text/x-python",
   "name": "python",
   "nbconvert_exporter": "python",
   "pygments_lexer": "ipython3",
   "version": "3.6.4"
  }
 },
 "nbformat": 4,
 "nbformat_minor": 2
}
